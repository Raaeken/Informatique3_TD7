{
 "cells": [
  {
   "cell_type": "markdown",
   "metadata": {},
   "source": [
    "# Augmenter l'intéractivité de vos notebooks Jupyter\n",
    "\n",
    "Nous vous présentons ici comment les widgets peuvent vous permettre d'enrichir vos notebooks. \n",
    "\n",
    "Ce notebook complète l'[article publié](https://makina-corpus.com/blog/metier/2019/augmenter-linteractivite-de-vos-notebooks-jupyter-1) sur le blog de Makina Corpus. "
   ]
  },
  {
   "cell_type": "markdown",
   "metadata": {},
   "source": [
    "## Dépendances\n",
    "\n",
    "Si vous n'utilisez pas les environnements pré-configurés mis à votre disposition dans le répertoire GitHub, vous aurez besoin de vérifier l'installation de certaines bibliothèques Python.\n",
    "\n",
    "Voici la liste des dépendances de ce notebook :\n",
    "   - `ipywidgets`\n",
    "   - `numpy`\n",
    "   - `matplotlib`\n",
    "   - `bqplot`\n"
   ]
  },
  {
   "cell_type": "code",
   "execution_count": 1,
   "metadata": {},
   "outputs": [],
   "source": [
    "import ipywidgets as widgets\n",
    "from ipywidgets import interact\n",
    "import numpy as np\n",
    "import matplotlib.pyplot as plt\n",
    "import bqplot as bq\n",
    "import random "
   ]
  },
  {
   "cell_type": "markdown",
   "metadata": {},
   "source": [
    "## Découvrir la fonction `interact`\n",
    "\n",
    "`interact` est une fonction de la bibliothèque `ipywidgets` qui crée automatiquement un contrôle permettant l'affichage interactif de la sortie d'une fonction. C'est le moyen le plus simple de commencer avec les widgets Ipython. \n",
    "\n",
    "La méthode `interact` prend en entrée le nom de la fonction qu'elle contrôle, ainsi que les valeurs par défaut des variables d'entrée de cette fonction. En fonction de ces valeurs par défaut, le type de contrôle affiché va varier. \n",
    "\n",
    "| Variable d'entrée  |  Contrôle affiché |\n",
    "|:---|:---|\n",
    "| Un booléen | Une case à cocher  |\n",
    "| Une chaîne de caractères | Une zone de texte   |\n",
    "| Une valeur entière ou un tuple d'entiers : (min, max) ou (min, max, step) | Un curseur pour la sélection d'un entier  |\n",
    "| Une valeur réelle ou un tuple de réels : (min, max) ou (min, max, step)  |  Un curseur pour la sélection d'un flottant |\n",
    "| Une liste ou un dictionnaire | Une liste déroulante   |\n"
   ]
  },
  {
   "cell_type": "markdown",
   "metadata": {},
   "source": [
    "### Un premier exemple simple avec une variable en entrée\n",
    "#### Définition d'une fonction"
   ]
  },
  {
   "cell_type": "code",
   "execution_count": 2,
   "metadata": {
    "scrolled": true
   },
   "outputs": [],
   "source": [
    "# My function\n",
    "def f(x):\n",
    "    \"\"\"\n",
    "    This function returns directly its input parameter.\n",
    "    \"\"\"\n",
    "    return x"
   ]
  },
  {
   "cell_type": "markdown",
   "metadata": {},
   "source": [
    "#### `Interact` avec un entier"
   ]
  },
  {
   "cell_type": "code",
   "execution_count": 3,
   "metadata": {},
   "outputs": [
    {
     "data": {
      "application/vnd.jupyter.widget-view+json": {
       "model_id": "56c592f77549417cb66543bad8719450",
       "version_major": 2,
       "version_minor": 0
      },
      "text/plain": [
       "interactive(children=(IntSlider(value=10, description='x', max=30, min=-10), Output()), _dom_classes=('widget-…"
      ]
     },
     "metadata": {},
     "output_type": "display_data"
    },
    {
     "data": {
      "text/plain": [
       "<function __main__.f(x)>"
      ]
     },
     "execution_count": 3,
     "metadata": {},
     "output_type": "execute_result"
    }
   ],
   "source": [
    "# The input is an integer\n",
    "interact(f, x=10)"
   ]
  },
  {
   "cell_type": "markdown",
   "metadata": {},
   "source": [
    "#### `Interact` avec un booléen"
   ]
  },
  {
   "cell_type": "code",
   "execution_count": 4,
   "metadata": {},
   "outputs": [
    {
     "data": {
      "application/vnd.jupyter.widget-view+json": {
       "model_id": "1398e007a7ec418fa14b59d242dccf2c",
       "version_major": 2,
       "version_minor": 0
      },
      "text/plain": [
       "interactive(children=(Checkbox(value=True, description='x'), Output()), _dom_classes=('widget-interact',))"
      ]
     },
     "metadata": {},
     "output_type": "display_data"
    },
    {
     "data": {
      "text/plain": [
       "<function __main__.f(x)>"
      ]
     },
     "execution_count": 4,
     "metadata": {},
     "output_type": "execute_result"
    }
   ],
   "source": [
    "# The input is a boolean\n",
    "interact(f, x=True)"
   ]
  },
  {
   "cell_type": "markdown",
   "metadata": {},
   "source": [
    "#### `Interact` avec une chaîne de caractères"
   ]
  },
  {
   "cell_type": "code",
   "execution_count": 5,
   "metadata": {},
   "outputs": [
    {
     "data": {
      "application/vnd.jupyter.widget-view+json": {
       "model_id": "77afb7bbf5c64cf7ba68620c4d669545",
       "version_major": 2,
       "version_minor": 0
      },
      "text/plain": [
       "interactive(children=(Text(value='My text', description='x'), Output()), _dom_classes=('widget-interact',))"
      ]
     },
     "metadata": {},
     "output_type": "display_data"
    },
    {
     "data": {
      "text/plain": [
       "<function __main__.f(x)>"
      ]
     },
     "execution_count": 5,
     "metadata": {},
     "output_type": "execute_result"
    }
   ],
   "source": [
    "# The input is a string\n",
    "interact(f, x='My text')"
   ]
  },
  {
   "cell_type": "markdown",
   "metadata": {},
   "source": [
    "#### `Interact` avec un dictionnaire"
   ]
  },
  {
   "cell_type": "code",
   "execution_count": 6,
   "metadata": {},
   "outputs": [
    {
     "data": {
      "application/vnd.jupyter.widget-view+json": {
       "model_id": "cea542fcfe08401cbf5e3d3c7f0cbf3f",
       "version_major": 2,
       "version_minor": 0
      },
      "text/plain": [
       "interactive(children=(Dropdown(description='x', options={'one': 1, 'two': 2, 'three': 3}, value=1), Output()),…"
      ]
     },
     "metadata": {},
     "output_type": "display_data"
    },
    {
     "data": {
      "text/plain": [
       "<function __main__.f(x)>"
      ]
     },
     "execution_count": 6,
     "metadata": {},
     "output_type": "execute_result"
    }
   ],
   "source": [
    "# The input is a dictionnary\n",
    "interact(f, x={\"one\":1, \"two\":2, \"three\":3})"
   ]
  },
  {
   "cell_type": "markdown",
   "metadata": {},
   "source": [
    "### Avec plusieurs variables en entrée\n",
    "\n",
    "La fonction contrôlée par `interact` peut avoir plusieurs variables d'entrée. Dans ce cas, chacune de ces variables pourra être sélectionnée par un contrôle dédié. \n",
    "\n",
    "Exemple :"
   ]
  },
  {
   "cell_type": "code",
   "execution_count": 7,
   "metadata": {
    "scrolled": false
   },
   "outputs": [
    {
     "data": {
      "application/vnd.jupyter.widget-view+json": {
       "model_id": "fbee40d5e35b488eba2e4fd978bcfab3",
       "version_major": 2,
       "version_minor": 0
      },
      "text/plain": [
       "interactive(children=(FloatSlider(value=0.5, description='amplitude', max=1.0), Dropdown(description='color', …"
      ]
     },
     "metadata": {},
     "output_type": "display_data"
    },
    {
     "data": {
      "text/plain": [
       "<function __main__.signal_plot(amplitude, color)>"
      ]
     },
     "execution_count": 7,
     "metadata": {},
     "output_type": "execute_result"
    }
   ],
   "source": [
    "# Function definition\n",
    "def signal_plot(amplitude, color):\n",
    "    \"\"\"\n",
    "    Draw a signal plot\n",
    "    :param amplitude : signal amplitude\n",
    "    :param color : line color\n",
    "    \"\"\"\n",
    "    # Create a figure\n",
    "    fig, ax = plt.subplots(figsize=(5, 4))\n",
    "    # Add a grid\n",
    "    ax.grid(color='#EEEEEE', linewidth=2, linestyle='solid')\n",
    "    # Define the x range\n",
    "    x = np.linspace(0, 10, 1000)\n",
    "    # Plot the sinusoid\n",
    "    ax.plot(x, amplitude * np.sin(x), color=color, lw=5, alpha=0.6)\n",
    "    # Define the x and y limits\n",
    "    ax.set_xlim(0, 10)\n",
    "    ax.set_ylim(-1.1, 1.1)\n",
    "\n",
    "    \n",
    "# Interact call\n",
    "interact(signal_plot,\n",
    "         amplitude=(0, 1.0, 0.1),\n",
    "         color=['blue', 'green', 'red'])"
   ]
  },
  {
   "cell_type": "markdown",
   "metadata": {},
   "source": [
    "La fonction `interact` est un raccourci vers un ensemble de widgets graphiques avec des choix faits par défaut selon le type d’objet (*int, float, bool, list, etc*) passé à la fonction associée. Il est possible d’avoir plus de libertés dans ces choix en paramétrant le widget à la main comme nous allons le voir maintenant."
   ]
  },
  {
   "cell_type": "markdown",
   "metadata": {},
   "source": [
    "## Combiner les contrôles\n",
    "\n",
    "Dans cette partie, nous allons créer une petite interface utilisateur qui permettra la visualisation de marches aléatoires. L'idée est de générer un trajet d'un nombre aléatoire de pas tiré dans un intervalle choisi par l'utilisateur, et de permettre le changement de couleur ou de style du tracé.\n",
    "\n",
    "Voici l'aperçu de ce à quoi nous voulons arriver :\n",
    "\n",
    "![](img/randomwalk_ui.png)\n",
    "\n",
    "Cette interface se compose d'un générateur de nombre aléatoire, d'un cadre central pour l'affichage graphique, et d'un panneau pour la configuration des options graphiques. "
   ]
  },
  {
   "cell_type": "markdown",
   "metadata": {},
   "source": [
    "### Créer un générateur de nombre aléatoire\n",
    "\n",
    "L'idée ici est de combiner plusieurs contrôles afin de permettre à l'utilisateur de choisir un intervalle dans un lequel un nombre sera tiré aléatoirement. Nous avons donc besoin :\n",
    "- d'un sélecteur permettant de choisir un intervalles de nombres entiers ;\n",
    "- d'un bouton ;\n",
    "- et d'une zone de texte pour afficher le résultat.\n",
    "\n",
    "L'ensemble des contrôles disponibles dans la bibliothèque `ipywidgets` sont listés et documentés [**ici**](https://ipywidgets.readthedocs.io/en/latest/examples/Widget%20List.html)."
   ]
  },
  {
   "cell_type": "markdown",
   "metadata": {},
   "source": [
    "#### Initialisation d'un sélecteur d'entiers\n",
    "\n",
    "Pour le moment, rien de compliqué. Nous initialisons seulement le contrôle dont nous avons besoin, à savoir un `IntRangeSlider`."
   ]
  },
  {
   "cell_type": "code",
   "execution_count": 8,
   "metadata": {},
   "outputs": [],
   "source": [
    "# Create a slider to select a range\n",
    "range_layout = widgets.Layout(\n",
    "    display='flex',\n",
    "    flex_flow='column',\n",
    "    height='230px',\n",
    "    width='130px'\n",
    ")\n",
    "\n",
    "my_range = widgets.IntRangeSlider(\n",
    "    description='Intervalle choisi :',\n",
    "    min=0,\n",
    "    max=10000,\n",
    "    value=(1000,5000),\n",
    "    style={'description_width': 'initial'},\n",
    "    orientation='vertical',\n",
    "    layout=range_layout\n",
    ")\n",
    "\n",
    "# display(my_range) # to show the widget"
   ]
  },
  {
   "cell_type": "markdown",
   "metadata": {},
   "source": [
    "L'intervalle choisi est accessible sous forme d'un tuple par l'attribut `value`."
   ]
  },
  {
   "cell_type": "code",
   "execution_count": 9,
   "metadata": {},
   "outputs": [
    {
     "data": {
      "text/plain": [
       "(1000, 5000)"
      ]
     },
     "execution_count": 9,
     "metadata": {},
     "output_type": "execute_result"
    }
   ],
   "source": [
    "my_range.value"
   ]
  },
  {
   "cell_type": "markdown",
   "metadata": {},
   "source": [
    "#### Création d'un bouton\n",
    "\n",
    "Nous faison de même pour initialiser le bouton de notre interface."
   ]
  },
  {
   "cell_type": "code",
   "execution_count": 10,
   "metadata": {},
   "outputs": [],
   "source": [
    "# Create a button\n",
    "button_layout = widgets.Layout(\n",
    "    width='130px'\n",
    ")\n",
    "\n",
    "my_button = widgets.Button(\n",
    "    description='Générer',\n",
    "    button_style='', # 'success', 'info', 'warning', 'danger' or ''\n",
    "    tooltip='Générer un nombre aléatoire',\n",
    "    layout=button_layout\n",
    ")\n",
    "\n",
    "# display(my_button) # to show the widget"
   ]
  },
  {
   "cell_type": "markdown",
   "metadata": {},
   "source": [
    "#### Création d'une zone de texte \n",
    "\n",
    "Nous ajoutons maintenant une zone de texte pour afficher le résultat."
   ]
  },
  {
   "cell_type": "code",
   "execution_count": 11,
   "metadata": {},
   "outputs": [],
   "source": [
    "my_text = widgets.IntText(\n",
    "    description = 'Résultat :',\n",
    "    disabled = True,\n",
    "    style={'description_width': 'initial'},\n",
    "    layout=button_layout\n",
    ")\n",
    "\n",
    "# display(my_text) # to show the widget"
   ]
  },
  {
   "cell_type": "markdown",
   "metadata": {},
   "source": [
    "Le contenu de cette zone de texte est accessible par l'attribut `value`."
   ]
  },
  {
   "cell_type": "code",
   "execution_count": 12,
   "metadata": {},
   "outputs": [
    {
     "data": {
      "text/plain": [
       "0"
      ]
     },
     "execution_count": 12,
     "metadata": {},
     "output_type": "execute_result"
    }
   ],
   "source": [
    "my_text.value"
   ]
  },
  {
   "cell_type": "markdown",
   "metadata": {},
   "source": [
    "#### Communication des contrôles entre eux\n",
    "\n",
    "Nous voulons désormais que nos trois contrôles communiquent entre eux : au clic sur le bouton, un nombre doit être tiré dans l'intervalle du sélecteur et affiché dans le champ de résultat. \n",
    "\n",
    "Pour cela, les boutons de la bibliothèque `ipywidgets` possèdent une méthode `on_click` permettant de gérer les événements qui doivent avoir lieu au clic. Cette méthode prend en paramètre le nom de la fonction à exécuter."
   ]
  },
  {
   "cell_type": "code",
   "execution_count": 13,
   "metadata": {
    "scrolled": true
   },
   "outputs": [
    {
     "data": {
      "application/vnd.jupyter.widget-view+json": {
       "model_id": "3025762b3145485da5d00d5bb5f89dbc",
       "version_major": 2,
       "version_minor": 0
      },
      "text/plain": [
       "IntRangeSlider(value=(1000, 5000), description='Intervalle choisi :', layout=Layout(display='flex', flex_flow=…"
      ]
     },
     "metadata": {},
     "output_type": "display_data"
    },
    {
     "data": {
      "application/vnd.jupyter.widget-view+json": {
       "model_id": "d21b3d9a569047c99dbcd3993a26a612",
       "version_major": 2,
       "version_minor": 0
      },
      "text/plain": [
       "Button(description='Générer', layout=Layout(width='130px'), style=ButtonStyle(), tooltip='Générer un nombre al…"
      ]
     },
     "metadata": {},
     "output_type": "display_data"
    },
    {
     "data": {
      "application/vnd.jupyter.widget-view+json": {
       "model_id": "eac5d4e334d1408aba9c1a22ea181343",
       "version_major": 2,
       "version_minor": 0
      },
      "text/plain": [
       "IntText(value=0, description='Résultat :', disabled=True, layout=Layout(width='130px'), style=DescriptionStyle…"
      ]
     },
     "metadata": {},
     "output_type": "display_data"
    }
   ],
   "source": [
    "def on_button_clicked(event):\n",
    "    \"\"\"\n",
    "    Function called by click on the button\n",
    "    \"\"\"\n",
    "    # Get the selected range \n",
    "    my_min = my_range.value[0]\n",
    "    my_max = my_range.value[1]\n",
    "    # If a correct range is selected\n",
    "    if(my_min < my_max):\n",
    "        # Get a random int in this range\n",
    "        my_nb = np.random.randint(my_min, my_max)\n",
    "        # Display this number in the text area\n",
    "        my_text.value = my_nb\n",
    "        # Update the button style\n",
    "        my_button.button_style = 'success'\n",
    "        my_button.icon = 'check'\n",
    "    else:\n",
    "        # Update the button style\n",
    "        my_button.button_style = 'danger'\n",
    "        my_button.icon = ''\n",
    "  \n",
    "# Define the 'on_click' event    \n",
    "my_button.on_click(on_button_clicked)\n",
    "\n",
    "# Display the three widgets\n",
    "display(my_range)\n",
    "display(my_button)\n",
    "display(my_text)"
   ]
  },
  {
   "cell_type": "markdown",
   "metadata": {},
   "source": [
    "#### Encapsulation des contrôles \n",
    "\n",
    "Ces trois contrôles peuvent désormais être assemblés dans une boîte commune (`Box`, `VBox` ou `HBox`) qui servira à construire l'interface finale."
   ]
  },
  {
   "cell_type": "code",
   "execution_count": 14,
   "metadata": {},
   "outputs": [],
   "source": [
    "box_layout = widgets.Layout(\n",
    "            width='135px'\n",
    ")\n",
    "\n",
    "my_LVBox = widgets.VBox(\n",
    "    [my_range, my_button, my_text],\n",
    "    layout=box_layout\n",
    ")\n",
    "\n",
    "# display(my_LVBox) # to show the widget"
   ]
  },
  {
   "cell_type": "markdown",
   "metadata": {},
   "source": [
    "### Afficher une marche aléatoire à partir du nombre généré\n",
    "\n",
    "Le résultat que nous obtenons grâce à notre générateur de nombres aléatoires va désormais nous servir au tracé d'une marche aléatoire. \n",
    "\n",
    "Tout d'abord, voici la fonction de marche aléatoire que nous utiliserons :"
   ]
  },
  {
   "cell_type": "code",
   "execution_count": 15,
   "metadata": {},
   "outputs": [],
   "source": [
    "def get_random_walk(n):  \n",
    "    \"\"\"\n",
    "    This function creates two array containing x and y coordinates of the random walk. \n",
    "    :param n : number of steps\n",
    "    \"\"\"\n",
    "    #creating two arrays for containing x and y coordinates \n",
    "    #of size equals to the number of size and filled up with 0's \n",
    "    x = np.zeros(n) \n",
    "    y = np.zeros(n) \n",
    "\n",
    "    # filling the coordinates with random variables \n",
    "    for i in range(1, n): \n",
    "        val = random.randint(1, 4) \n",
    "        if val == 1: \n",
    "            x[i] = x[i - 1] + 1\n",
    "            y[i] = y[i - 1] \n",
    "        elif val == 2: \n",
    "            x[i] = x[i - 1] - 1\n",
    "            y[i] = y[i - 1] \n",
    "        elif val == 3: \n",
    "            x[i] = x[i - 1] \n",
    "            y[i] = y[i - 1] + 1\n",
    "        else: \n",
    "            x[i] = x[i - 1] \n",
    "            y[i] = y[i - 1] - 1\n",
    "            \n",
    "    return x,y"
   ]
  },
  {
   "cell_type": "markdown",
   "metadata": {},
   "source": [
    "Cette fonction prend en entrée un nombre de pas et retourne deux tableaux contenant les coordonnées x et y du tracé."
   ]
  },
  {
   "cell_type": "markdown",
   "metadata": {},
   "source": [
    "#### `bqplot`, un \"graphique widget\"\n",
    "\n",
    "Pour afficher le tracé, nous utilisons la bibliothèque `bqplot`. Dans notre exemple, elle va nous permettre d'intéragir avec le graphique (changer le tracé, modifier la couleur, etc) sans avoir à recharger à chaque fois toute la figure (ce que `Matplotlib` nous obligerait à faire). "
   ]
  },
  {
   "cell_type": "code",
   "execution_count": 16,
   "metadata": {},
   "outputs": [
    {
     "data": {
      "application/vnd.jupyter.widget-view+json": {
       "model_id": "55cb9aa405434d00b82ef61e1816be08",
       "version_major": 2,
       "version_minor": 0
      },
      "text/plain": [
       "Figure(axes=[Axis(scale=LinearScale()), Axis(orientation='vertical', scale=LinearScale())], fig_margin={'top':…"
      ]
     },
     "metadata": {},
     "output_type": "display_data"
    }
   ],
   "source": [
    "# Initialize the random walk with 0 steps\n",
    "walk_x, walk_y = get_random_walk(0)\n",
    "\n",
    "# Use linear scales\n",
    "sc_x = bq.LinearScale()\n",
    "sc_y = bq.LinearScale()\n",
    "\n",
    "# Create the line with the coordinates of the random walk\n",
    "walk = bq.Lines(x=walk_x, y=walk_y, scales={'x': sc_x,'y': sc_y}, opacities=[0.6])\n",
    "\n",
    "# Define axis\n",
    "ax_x = bq.Axis(scale=sc_x)\n",
    "ax_y = bq.Axis(scale=sc_y, orientation='vertical')\n",
    "\n",
    "# Create a figure\n",
    "fig = bq.Figure(marks=[walk], axes=[ax_x, ax_y],\n",
    "                fig_margin=dict(top=20, bottom=20, left=20, right=20))\n",
    "\n",
    "# Fix the figure size\n",
    "fig.layout.height = '450px'\n",
    "fig.layout.width = '450px'\n",
    "\n",
    "fig"
   ]
  },
  {
   "cell_type": "markdown",
   "metadata": {},
   "source": [
    "#### Lier le générateur de nombre aléatoire à l'affichage graphique\n",
    "\n",
    "Maintenant, grâce à `bqplot`, nous pouvons facilement redessiner le tracé à chaque fois qu'un nouveau nombre alétoire est généré. \n",
    "\n",
    "Pour cela, nous utilisons la méthode `observe` de notre zone de texte qui permet d'appeler une fonction à chaque fois que sa valeur change. "
   ]
  },
  {
   "cell_type": "code",
   "execution_count": 17,
   "metadata": {},
   "outputs": [],
   "source": [
    "def on_value_change(change):\n",
    "    \"\"\"\n",
    "    Update the random walk when a new number is generated.\n",
    "    \"\"\"\n",
    "    # Random number\n",
    "    n = my_text.value\n",
    "    # Calculate a new random walk\n",
    "    wx, wy = get_random_walk(n)\n",
    "    # Update the plot\n",
    "    walk.x = wx\n",
    "    walk.y = wy\n",
    "    \n",
    "my_text.observe(on_value_change,'value')"
   ]
  },
  {
   "cell_type": "markdown",
   "metadata": {},
   "source": [
    "### Rendre configurable des options graphiques\n",
    "\n",
    "Dernière partie de notre interface, nous allons ajouter quelques contrôles pour pouvoir changer facilement la couleur ou/et le style du tracé."
   ]
  },
  {
   "cell_type": "markdown",
   "metadata": {},
   "source": [
    "#### Changer la couleur du tracé"
   ]
  },
  {
   "cell_type": "code",
   "execution_count": 18,
   "metadata": {},
   "outputs": [],
   "source": [
    "layout =  widgets.Layout(\n",
    "            display='flex',\n",
    "            flex_flow='column',\n",
    "            height='60px',\n",
    "            width='100px'\n",
    "        )\n",
    "\n",
    "my_color = widgets.Dropdown(\n",
    "    options=['blue', 'green', 'red'],\n",
    "    value='blue',\n",
    "    description='Couleur:',\n",
    "    disabled=False,\n",
    "    style={'description_width': 'initial'},\n",
    "    layout=layout\n",
    ")\n",
    "\n",
    "def on_color_change(change):\n",
    "    \"\"\"\n",
    "    Change the plot color\n",
    "    \"\"\"\n",
    "    walk.colors = [my_color.value]\n",
    "        \n",
    "my_color.observe(on_color_change, 'value')"
   ]
  },
  {
   "cell_type": "markdown",
   "metadata": {},
   "source": [
    "#### Changer le style du tracé"
   ]
  },
  {
   "cell_type": "code",
   "execution_count": 19,
   "metadata": {},
   "outputs": [],
   "source": [
    "my_line = widgets.Dropdown(\n",
    "    options=['solid', 'dashed', 'dotted', 'dash_dotted'],\n",
    "    value='solid',\n",
    "    description='Style des lignes:',\n",
    "    disabled=False,\n",
    "    style={'description_width': 'initial'},\n",
    "    layout=layout\n",
    ")\n",
    "\n",
    "def on_line_change(change):\n",
    "    \"\"\"\n",
    "    Change the line style\n",
    "    \"\"\"\n",
    "    walk.line_style = my_line.value\n",
    "        \n",
    "my_line.observe(on_line_change, 'value')"
   ]
  },
  {
   "cell_type": "markdown",
   "metadata": {},
   "source": [
    "#### Ajouter une image et encapsuler les contrôles"
   ]
  },
  {
   "cell_type": "code",
   "execution_count": 20,
   "metadata": {},
   "outputs": [],
   "source": [
    "# Open the file containing our image and read it\n",
    "with open('img/pedestrians-1209316_1920.jpg','rb') as my_file:\n",
    "    img = my_file.read()\n",
    "\n",
    "# Create an Image widget to display it in the UI\n",
    "my_img = widgets.Image(\n",
    "    value=img,\n",
    "    format='jpg'\n",
    ")\n",
    "\n",
    "# Create a box containing the three widgets\n",
    "b_layout = widgets.Layout(\n",
    "    width='200px'\n",
    ")\n",
    "\n",
    "my_RVBox = widgets.VBox(\n",
    "    children=[my_img, my_color, my_line],\n",
    "    layout=b_layout\n",
    ")"
   ]
  },
  {
   "cell_type": "markdown",
   "metadata": {},
   "source": [
    "### Interface complète\n",
    "\n",
    "Ca y est, nous avons tous les morceaux de notre interface. Pour la construire, il nous suffit maintenant de les rassembler dans un `AppLayout`."
   ]
  },
  {
   "cell_type": "code",
   "execution_count": 21,
   "metadata": {},
   "outputs": [
    {
     "data": {
      "application/vnd.jupyter.widget-view+json": {
       "model_id": "d892b09c72b942f8a80f30d0047f735b",
       "version_major": 2,
       "version_minor": 0
      },
      "text/plain": [
       "AppLayout(children=(VBox(children=(IntRangeSlider(value=(1000, 5000), description='Intervalle choisi :', layou…"
      ]
     },
     "metadata": {},
     "output_type": "display_data"
    }
   ],
   "source": [
    "widgets.AppLayout(\n",
    "    header=None,\n",
    "    left_sidebar=my_LVBox,\n",
    "    center=fig,\n",
    "    right_sidebar=my_RVBox,\n",
    "    footer=None,\n",
    "    align_items=\"center\",\n",
    "    width='85%'\n",
    ")"
   ]
  }
 ],
 "metadata": {
  "kernelspec": {
   "display_name": "Python 3",
   "language": "python",
   "name": "python3"
  },
  "language_info": {
   "codemirror_mode": {
    "name": "ipython",
    "version": 3
   },
   "file_extension": ".py",
   "mimetype": "text/x-python",
   "name": "python",
   "nbconvert_exporter": "python",
   "pygments_lexer": "ipython3",
   "version": "3.6.8"
  }
 },
 "nbformat": 4,
 "nbformat_minor": 2
}
